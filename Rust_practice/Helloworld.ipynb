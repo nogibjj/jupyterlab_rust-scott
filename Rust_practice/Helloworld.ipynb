{
 "cells": [
  {
   "cell_type": "code",
   "execution_count": 2,
   "id": "9c1cc434-06e8-4629-a198-732b750bab20",
   "metadata": {
    "tags": []
   },
   "outputs": [
    {
     "name": "stdout",
     "output_type": "stream",
     "text": [
      "hello world!\n"
     ]
    }
   ],
   "source": [
    "println!{\"hello world!\"};"
   ]
  },
  {
   "cell_type": "code",
   "execution_count": 3,
   "id": "6672b256-8939-40ac-a6db-d6be0b6197d7",
   "metadata": {
    "tags": []
   },
   "outputs": [
    {
     "name": "stdout",
     "output_type": "stream",
     "text": [
      "hello world!\n"
     ]
    }
   ],
   "source": [
    "fn hello() {\n",
    "    println!{\"hello world!\"};\n",
    "}\n",
    "\n",
    "hello();"
   ]
  },
  {
   "cell_type": "code",
   "execution_count": null,
   "id": "670e1e18-1ff3-4c28-9885-4b6f54dd7e78",
   "metadata": {},
   "outputs": [],
   "source": []
  }
 ],
 "metadata": {
  "kernelspec": {
   "display_name": "Rust",
   "language": "rust",
   "name": "rust"
  },
  "language_info": {
   "codemirror_mode": "rust",
   "file_extension": ".rs",
   "mimetype": "text/rust",
   "name": "Rust",
   "pygment_lexer": "rust",
   "version": ""
  }
 },
 "nbformat": 4,
 "nbformat_minor": 5
}
